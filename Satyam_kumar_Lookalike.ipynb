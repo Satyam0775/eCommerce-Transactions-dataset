{
 "cells": [
  {
   "cell_type": "code",
   "execution_count": 1,
   "metadata": {
    "_cell_guid": "b1076dfc-b9ad-4769-8c92-a6c4dae69d19",
    "_uuid": "8f2839f25d086af736a60e9eeb907d3b93b6e0e5",
    "execution": {
     "iopub.execute_input": "2025-01-27T11:41:15.862828Z",
     "iopub.status.busy": "2025-01-27T11:41:15.862639Z",
     "iopub.status.idle": "2025-01-27T11:41:20.814613Z",
     "shell.execute_reply": "2025-01-27T11:41:20.813552Z",
     "shell.execute_reply.started": "2025-01-27T11:41:15.862809Z"
    },
    "trusted": true
   },
   "outputs": [
    {
     "name": "stdout",
     "output_type": "stream",
     "text": [
      "Requirement already satisfied: pandas in /usr/local/lib/python3.10/dist-packages (2.2.2)\n",
      "Requirement already satisfied: matplotlib in /usr/local/lib/python3.10/dist-packages (3.7.5)\n",
      "Requirement already satisfied: seaborn in /usr/local/lib/python3.10/dist-packages (0.12.2)\n",
      "Requirement already satisfied: scikit-learn in /usr/local/lib/python3.10/dist-packages (1.2.2)\n",
      "Requirement already satisfied: numpy>=1.22.4 in /usr/local/lib/python3.10/dist-packages (from pandas) (1.26.4)\n",
      "Requirement already satisfied: python-dateutil>=2.8.2 in /usr/local/lib/python3.10/dist-packages (from pandas) (2.8.2)\n",
      "Requirement already satisfied: pytz>=2020.1 in /usr/local/lib/python3.10/dist-packages (from pandas) (2024.2)\n",
      "Requirement already satisfied: tzdata>=2022.7 in /usr/local/lib/python3.10/dist-packages (from pandas) (2024.2)\n",
      "Requirement already satisfied: contourpy>=1.0.1 in /usr/local/lib/python3.10/dist-packages (from matplotlib) (1.3.1)\n",
      "Requirement already satisfied: cycler>=0.10 in /usr/local/lib/python3.10/dist-packages (from matplotlib) (0.12.1)\n",
      "Requirement already satisfied: fonttools>=4.22.0 in /usr/local/lib/python3.10/dist-packages (from matplotlib) (4.55.3)\n",
      "Requirement already satisfied: kiwisolver>=1.0.1 in /usr/local/lib/python3.10/dist-packages (from matplotlib) (1.4.7)\n",
      "Requirement already satisfied: packaging>=20.0 in /usr/local/lib/python3.10/dist-packages (from matplotlib) (24.2)\n",
      "Requirement already satisfied: pillow>=6.2.0 in /usr/local/lib/python3.10/dist-packages (from matplotlib) (11.0.0)\n",
      "Requirement already satisfied: pyparsing>=2.3.1 in /usr/local/lib/python3.10/dist-packages (from matplotlib) (3.2.0)\n",
      "Requirement already satisfied: scipy>=1.3.2 in /usr/local/lib/python3.10/dist-packages (from scikit-learn) (1.13.1)\n",
      "Requirement already satisfied: joblib>=1.1.1 in /usr/local/lib/python3.10/dist-packages (from scikit-learn) (1.4.2)\n",
      "Requirement already satisfied: threadpoolctl>=2.0.0 in /usr/local/lib/python3.10/dist-packages (from scikit-learn) (3.5.0)\n",
      "Requirement already satisfied: mkl_fft in /usr/local/lib/python3.10/dist-packages (from numpy>=1.22.4->pandas) (1.3.8)\n",
      "Requirement already satisfied: mkl_random in /usr/local/lib/python3.10/dist-packages (from numpy>=1.22.4->pandas) (1.2.4)\n",
      "Requirement already satisfied: mkl_umath in /usr/local/lib/python3.10/dist-packages (from numpy>=1.22.4->pandas) (0.1.1)\n",
      "Requirement already satisfied: mkl in /usr/local/lib/python3.10/dist-packages (from numpy>=1.22.4->pandas) (2025.0.1)\n",
      "Requirement already satisfied: tbb4py in /usr/local/lib/python3.10/dist-packages (from numpy>=1.22.4->pandas) (2022.0.0)\n",
      "Requirement already satisfied: mkl-service in /usr/local/lib/python3.10/dist-packages (from numpy>=1.22.4->pandas) (2.4.1)\n",
      "Requirement already satisfied: six>=1.5 in /usr/local/lib/python3.10/dist-packages (from python-dateutil>=2.8.2->pandas) (1.17.0)\n",
      "Requirement already satisfied: intel-openmp>=2024 in /usr/local/lib/python3.10/dist-packages (from mkl->numpy>=1.22.4->pandas) (2024.2.0)\n",
      "Requirement already satisfied: tbb==2022.* in /usr/local/lib/python3.10/dist-packages (from mkl->numpy>=1.22.4->pandas) (2022.0.0)\n",
      "Requirement already satisfied: tcmlib==1.* in /usr/local/lib/python3.10/dist-packages (from tbb==2022.*->mkl->numpy>=1.22.4->pandas) (1.2.0)\n",
      "Requirement already satisfied: intel-cmplr-lib-rt in /usr/local/lib/python3.10/dist-packages (from mkl_umath->numpy>=1.22.4->pandas) (2024.2.0)\n",
      "Requirement already satisfied: intel-cmplr-lib-ur==2024.2.0 in /usr/local/lib/python3.10/dist-packages (from intel-openmp>=2024->mkl->numpy>=1.22.4->pandas) (2024.2.0)\n"
     ]
    }
   ],
   "source": [
    "!pip install pandas matplotlib seaborn scikit-learn"
   ]
  },
  {
   "cell_type": "markdown",
   "metadata": {},
   "source": [
    "**Task 2: Lookalike Model**"
   ]
  },
  {
   "cell_type": "code",
   "execution_count": 44,
   "metadata": {
    "execution": {
     "iopub.execute_input": "2025-01-27T12:08:39.394905Z",
     "iopub.status.busy": "2025-01-27T12:08:39.394550Z",
     "iopub.status.idle": "2025-01-27T12:08:39.409321Z",
     "shell.execute_reply": "2025-01-27T12:08:39.408336Z",
     "shell.execute_reply.started": "2025-01-27T12:08:39.394881Z"
    },
    "trusted": true
   },
   "outputs": [],
   "source": [
    "import pandas as pd\n",
    "import numpy as np\n",
    "from sklearn.metrics.pairwise import cosine_similarity\n",
    "from sklearn.preprocessing import LabelEncoder\n",
    "from collections import defaultdict\n",
    "\n",
    "# Load datasets\n",
    "customers = pd.read_csv('/kaggle/input/ecommerce-transactions-dataset/Customers.csv')\n",
    "products = pd.read_csv('/kaggle/input/ecommerce-transactions-dataset/Products.csv')\n",
    "transactions = pd.read_csv('/kaggle/input/ecommerce-transactions-dataset/Transactions.csv')\n"
   ]
  },
  {
   "cell_type": "code",
   "execution_count": 45,
   "metadata": {
    "execution": {
     "iopub.execute_input": "2025-01-27T12:08:45.510266Z",
     "iopub.status.busy": "2025-01-27T12:08:45.509901Z",
     "iopub.status.idle": "2025-01-27T12:08:45.522280Z",
     "shell.execute_reply": "2025-01-27T12:08:45.521189Z",
     "shell.execute_reply.started": "2025-01-27T12:08:45.510233Z"
    },
    "trusted": true
   },
   "outputs": [],
   "source": [
    "# Merge the datasets on CustomerID and ProductID\n",
    "merged_df = pd.merge(transactions, customers, on=\"CustomerID\", how=\"left\")\n",
    "merged_df = pd.merge(merged_df, products, on=\"ProductID\", how=\"left\")\n"
   ]
  },
  {
   "cell_type": "code",
   "execution_count": 46,
   "metadata": {
    "execution": {
     "iopub.execute_input": "2025-01-27T12:08:52.851325Z",
     "iopub.status.busy": "2025-01-27T12:08:52.850976Z",
     "iopub.status.idle": "2025-01-27T12:08:52.857500Z",
     "shell.execute_reply": "2025-01-27T12:08:52.856641Z",
     "shell.execute_reply.started": "2025-01-27T12:08:52.851297Z"
    },
    "trusted": true
   },
   "outputs": [],
   "source": [
    "# Encode categorical variables (Region, Product Category)\n",
    "label_encoder = LabelEncoder()\n",
    "merged_df['Region_encoded'] = label_encoder.fit_transform(merged_df['Region'])\n",
    "merged_df['Category_encoded'] = label_encoder.fit_transform(merged_df['Category'])\n"
   ]
  },
  {
   "cell_type": "code",
   "execution_count": 48,
   "metadata": {
    "execution": {
     "iopub.execute_input": "2025-01-27T12:10:14.956064Z",
     "iopub.status.busy": "2025-01-27T12:10:14.955708Z",
     "iopub.status.idle": "2025-01-27T12:10:14.961105Z",
     "shell.execute_reply": "2025-01-27T12:10:14.960141Z",
     "shell.execute_reply.started": "2025-01-27T12:10:14.956040Z"
    },
    "trusted": true
   },
   "outputs": [
    {
     "name": "stdout",
     "output_type": "stream",
     "text": [
      "Index(['TransactionID', 'CustomerID', 'ProductID', 'TransactionDate',\n",
      "       'Quantity', 'TotalValue', 'Price_x', 'CustomerName', 'Region',\n",
      "       'SignupDate', 'ProductName', 'Category', 'Price_y', 'Region_encoded',\n",
      "       'Category_encoded'],\n",
      "      dtype='object')\n"
     ]
    }
   ],
   "source": [
    "print(merged_df.columns)\n"
   ]
  },
  {
   "cell_type": "code",
   "execution_count": 49,
   "metadata": {
    "execution": {
     "iopub.execute_input": "2025-01-27T12:10:29.590943Z",
     "iopub.status.busy": "2025-01-27T12:10:29.590612Z",
     "iopub.status.idle": "2025-01-27T12:10:29.599836Z",
     "shell.execute_reply": "2025-01-27T12:10:29.598846Z",
     "shell.execute_reply.started": "2025-01-27T12:10:29.590917Z"
    },
    "trusted": true
   },
   "outputs": [
    {
     "name": "stdout",
     "output_type": "stream",
     "text": [
      "  TransactionID CustomerID ProductID      TransactionDate  Quantity  \\\n",
      "0        T00001      C0199      P067  2024-08-25 12:38:23         1   \n",
      "1        T00112      C0146      P067  2024-05-27 22:23:54         1   \n",
      "2        T00166      C0127      P067  2024-04-25 07:38:55         1   \n",
      "3        T00272      C0087      P067  2024-03-26 22:55:37         2   \n",
      "4        T00363      C0070      P067  2024-03-21 15:10:10         3   \n",
      "\n",
      "   TotalValue  Price_x     CustomerName         Region  SignupDate  \\\n",
      "0      300.68   300.68   Andrea Jenkins         Europe  2022-12-03   \n",
      "1      300.68   300.68  Brittany Harvey           Asia  2024-09-04   \n",
      "2      300.68   300.68  Kathryn Stevens         Europe  2024-04-04   \n",
      "3      601.36   300.68  Travis Campbell  South America  2024-04-11   \n",
      "4      902.04   300.68    Timothy Perez         Europe  2022-03-15   \n",
      "\n",
      "                       ProductName     Category  Price_y  Region_encoded  \\\n",
      "0  ComfortLiving Bluetooth Speaker  Electronics   300.68               1   \n",
      "1  ComfortLiving Bluetooth Speaker  Electronics   300.68               0   \n",
      "2  ComfortLiving Bluetooth Speaker  Electronics   300.68               1   \n",
      "3  ComfortLiving Bluetooth Speaker  Electronics   300.68               3   \n",
      "4  ComfortLiving Bluetooth Speaker  Electronics   300.68               1   \n",
      "\n",
      "   Category_encoded  \n",
      "0                 2  \n",
      "1                 2  \n",
      "2                 2  \n",
      "3                 2  \n",
      "4                 2  \n"
     ]
    }
   ],
   "source": [
    "# Check the first few rows to see if there are any duplicate 'Price' columns\n",
    "print(merged_df.head())\n"
   ]
  },
  {
   "cell_type": "code",
   "execution_count": 53,
   "metadata": {
    "execution": {
     "iopub.execute_input": "2025-01-27T12:12:05.683506Z",
     "iopub.status.busy": "2025-01-27T12:12:05.683135Z",
     "iopub.status.idle": "2025-01-27T12:12:05.715702Z",
     "shell.execute_reply": "2025-01-27T12:12:05.714995Z",
     "shell.execute_reply.started": "2025-01-27T12:12:05.683477Z"
    },
    "trusted": true
   },
   "outputs": [
    {
     "name": "stdout",
     "output_type": "stream",
     "text": [
      "Index(['TransactionID', 'CustomerID', 'ProductID', 'TransactionDate',\n",
      "       'Quantity', 'TotalValue', 'Price_x', 'CustomerName', 'Region',\n",
      "       'SignupDate', 'ProductName', 'Category', 'ProductPrice',\n",
      "       'Region_encoded', 'Category_encoded'],\n",
      "      dtype='object')\n",
      "  CustomerID  Region_encoded  Category_encoded  ProductPrice  Quantity\n",
      "0      C0001               3          1.800000       1391.67        12\n",
      "1      C0002               0          2.000000        835.68        10\n",
      "2      C0003               3          2.250000        782.83        14\n",
      "3      C0004               3          1.625000       1925.09        23\n",
      "4      C0005               0          2.333333        874.81         7\n"
     ]
    }
   ],
   "source": [
    "# Step 1: Merge the datasets on CustomerID and ProductID\n",
    "merged_df = pd.merge(transactions, customers, on=\"CustomerID\", how=\"left\")\n",
    "merged_df = pd.merge(merged_df, products, on=\"ProductID\", how=\"left\")\n",
    "\n",
    "# Rename Price columns to avoid confusion\n",
    "merged_df.rename(columns={'Price_y': 'ProductPrice'}, inplace=True)  # Using the correct price column\n",
    "\n",
    "# Step 2: Encode categorical variables (Region, Product Category)\n",
    "from sklearn.preprocessing import LabelEncoder\n",
    "label_encoder = LabelEncoder()\n",
    "\n",
    "# Encoding 'Region' and 'Category' columns\n",
    "merged_df['Region_encoded'] = label_encoder.fit_transform(merged_df['Region'])\n",
    "merged_df['Category_encoded'] = label_encoder.fit_transform(merged_df['Category'])\n",
    "\n",
    "# Check if encoding worked and columns exist\n",
    "print(merged_df.columns)\n",
    "\n",
    "# Step 3: Aggregate transaction data by CustomerID (frequency, total value)\n",
    "agg_df = merged_df.groupby('CustomerID').agg({\n",
    "    'Region_encoded': 'first',  # Just take the first Region (as it's static for each customer)\n",
    "    'Category_encoded': 'mean',  # Average of product categories bought\n",
    "    'ProductPrice': 'sum',  # Total money spent by customer (using the correct column name)\n",
    "    'Quantity': 'sum'  # Total quantity purchased\n",
    "}).reset_index()\n",
    "\n",
    "# Check the result of the aggregation\n",
    "print(agg_df.head())\n"
   ]
  },
  {
   "cell_type": "code",
   "execution_count": 56,
   "metadata": {
    "execution": {
     "iopub.execute_input": "2025-01-27T12:13:19.589627Z",
     "iopub.status.busy": "2025-01-27T12:13:19.589282Z",
     "iopub.status.idle": "2025-01-27T12:13:19.626304Z",
     "shell.execute_reply": "2025-01-27T12:13:19.625465Z",
     "shell.execute_reply.started": "2025-01-27T12:13:19.589600Z"
    },
    "trusted": true
   },
   "outputs": [
    {
     "name": "stdout",
     "output_type": "stream",
     "text": [
      "  CustomerID Lookalike_CustomerID  Similarity_Score\n",
      "0      C0001                C0076          1.000000\n",
      "1      C0001                C0133          1.000000\n",
      "2      C0001                C0096          1.000000\n",
      "3      C0002                C0106          0.999999\n",
      "4      C0002                C0166          0.999999\n"
     ]
    }
   ],
   "source": [
    "from sklearn.metrics.pairwise import cosine_similarity\n",
    "from collections import defaultdict\n",
    "\n",
    "# Step 4: Calculate Similarity (Cosine Similarity)\n",
    "# Create a matrix with customer features\n",
    "customer_features = agg_df[['Region_encoded', 'Category_encoded', 'ProductPrice', 'Quantity']].values\n",
    "\n",
    "# Calculate cosine similarity matrix\n",
    "similarity_matrix = cosine_similarity(customer_features)\n",
    "\n",
    "# Step 5: Find the top 3 similar customers for each customer\n",
    "lookalike_map = defaultdict(list)\n",
    "for i in range(len(agg_df)):  # Loop through all customers\n",
    "    similarities = list(enumerate(similarity_matrix[i]))\n",
    "    # Sort the similarities by score (descending) and exclude the customer itself\n",
    "    sorted_similarities = sorted(similarities, key=lambda x: x[1], reverse=True)[1:4]  # Top 3\n",
    "    # Add the top 3 similar customers and their similarity score\n",
    "    lookalike_map[agg_df['CustomerID'].iloc[i]] = [(agg_df['CustomerID'].iloc[x[0]], x[1]) for x in sorted_similarities]\n",
    "\n",
    "# Step 6: Prepare the output for CSV\n",
    "lookalike_data = []\n",
    "for customer, similar_customers in lookalike_map.items():\n",
    "    for sim_customer, score in similar_customers:\n",
    "        lookalike_data.append([customer, sim_customer, score])\n",
    "\n",
    "lookalike_df = pd.DataFrame(lookalike_data, columns=['CustomerID', 'Lookalike_CustomerID', 'Similarity_Score'])\n",
    "\n",
    "# Step 7: Save the lookalike model to a CSV file\n",
    "lookalike_df.to_csv(\"Lookalike_Customers.csv\", index=False)\n",
    "\n",
    "# Check the output\n",
    "print(lookalike_df.head())\n"
   ]
  }
 ],
 "metadata": {
  "kaggle": {
   "accelerator": "nvidiaTeslaT4",
   "dataSources": [
    {
     "datasetId": 6555948,
     "sourceId": 10592534,
     "sourceType": "datasetVersion"
    }
   ],
   "dockerImageVersionId": 30840,
   "isGpuEnabled": true,
   "isInternetEnabled": true,
   "language": "python",
   "sourceType": "notebook"
  },
  "kernelspec": {
   "display_name": "Python 3",
   "language": "python",
   "name": "python3"
  },
  "language_info": {
   "codemirror_mode": {
    "name": "ipython",
    "version": 3
   },
   "file_extension": ".py",
   "mimetype": "text/x-python",
   "name": "python",
   "nbconvert_exporter": "python",
   "pygments_lexer": "ipython3",
   "version": "3.10.12"
  }
 },
 "nbformat": 4,
 "nbformat_minor": 4
}
